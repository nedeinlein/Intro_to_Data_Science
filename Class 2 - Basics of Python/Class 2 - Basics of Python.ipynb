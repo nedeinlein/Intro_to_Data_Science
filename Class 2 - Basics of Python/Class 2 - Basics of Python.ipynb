{
 "cells": [
  {
   "cell_type": "markdown",
   "id": "7f83fb2c",
   "metadata": {},
   "source": [
    "# Imports"
   ]
  },
  {
   "cell_type": "code",
   "execution_count": 1,
   "id": "e333d05f",
   "metadata": {},
   "outputs": [],
   "source": [
    "import pandas as pd\n",
    "import numpy as np\n",
    "import array as arr"
   ]
  },
  {
   "cell_type": "markdown",
   "id": "eb8007b3",
   "metadata": {},
   "source": [
    "### Arrays Section"
   ]
  },
  {
   "cell_type": "code",
   "execution_count": 2,
   "id": "4b984925",
   "metadata": {},
   "outputs": [],
   "source": [
    "x = arr.array('i', [3, 6, 9, 12])"
   ]
  },
  {
   "cell_type": "code",
   "execution_count": 3,
   "id": "cb1a36db",
   "metadata": {},
   "outputs": [
    {
     "name": "stdout",
     "output_type": "stream",
     "text": [
      "array('i', [3, 6, 9, 12])\n",
      "array('i', [3, 6, 9, 12])\n"
     ]
    }
   ],
   "source": [
    "print(x)\n",
    "print(arr.array('i', [3, 6, 9, 12]))"
   ]
  },
  {
   "cell_type": "code",
   "execution_count": 4,
   "id": "9d220a23",
   "metadata": {},
   "outputs": [
    {
     "data": {
      "text/plain": [
       "array.array"
      ]
     },
     "execution_count": 4,
     "metadata": {},
     "output_type": "execute_result"
    }
   ],
   "source": [
    "type(x)"
   ]
  },
  {
   "cell_type": "code",
   "execution_count": 6,
   "id": "3df802c1",
   "metadata": {},
   "outputs": [
    {
     "data": {
      "text/plain": [
       "array('i', [3, 6, 9, 12])"
      ]
     },
     "execution_count": 6,
     "metadata": {},
     "output_type": "execute_result"
    }
   ],
   "source": [
    "arr.array('i', [3, 6, 9, 12])"
   ]
  },
  {
   "cell_type": "markdown",
   "id": "b8ce5975",
   "metadata": {},
   "source": [
    "### Lists Section"
   ]
  },
  {
   "cell_type": "code",
   "execution_count": 7,
   "id": "c8993c5c",
   "metadata": {},
   "outputs": [
    {
     "data": {
      "text/plain": [
       "[1, 2, 3, 4, 5]"
      ]
     },
     "execution_count": 7,
     "metadata": {},
     "output_type": "execute_result"
    }
   ],
   "source": [
    "[1,2,3,4,5]"
   ]
  },
  {
   "cell_type": "code",
   "execution_count": 13,
   "id": "ab43658e",
   "metadata": {},
   "outputs": [],
   "source": [
    "mylist = [1,2,3,4,5]"
   ]
  },
  {
   "cell_type": "code",
   "execution_count": 9,
   "id": "ec6ad3f0",
   "metadata": {},
   "outputs": [
    {
     "name": "stdout",
     "output_type": "stream",
     "text": [
      "[1, 2, 3, 4, 5]\n"
     ]
    }
   ],
   "source": [
    "print(mylist)"
   ]
  },
  {
   "cell_type": "code",
   "execution_count": 10,
   "id": "78a55db3",
   "metadata": {},
   "outputs": [],
   "source": [
    "list2 = [6,7,8,9,10]"
   ]
  },
  {
   "cell_type": "code",
   "execution_count": 11,
   "id": "14e42ebd",
   "metadata": {},
   "outputs": [],
   "source": [
    "mylist.append(list2)"
   ]
  },
  {
   "cell_type": "code",
   "execution_count": 14,
   "id": "d6a57b8b",
   "metadata": {},
   "outputs": [
    {
     "name": "stdout",
     "output_type": "stream",
     "text": [
      "[1, 2, 3, 4, 5]\n"
     ]
    }
   ],
   "source": [
    "print(mylist)"
   ]
  },
  {
   "cell_type": "code",
   "execution_count": 15,
   "id": "6d331112",
   "metadata": {},
   "outputs": [
    {
     "name": "stdout",
     "output_type": "stream",
     "text": [
      "[1, 2, 3, 4, 5, 6, 7, 8, 9, 10]\n"
     ]
    }
   ],
   "source": [
    "mylist.extend(list2)\n",
    "print(mylist)"
   ]
  },
  {
   "cell_type": "code",
   "execution_count": 16,
   "id": "5e055a75",
   "metadata": {},
   "outputs": [
    {
     "name": "stdout",
     "output_type": "stream",
     "text": [
      "3\n"
     ]
    }
   ],
   "source": [
    "print(mylist.index(4))"
   ]
  },
  {
   "cell_type": "code",
   "execution_count": 17,
   "id": "fa615bda",
   "metadata": {},
   "outputs": [
    {
     "name": "stdout",
     "output_type": "stream",
     "text": [
      "[1, 2, 3, 5, 6, 7, 8, 9, 10]\n"
     ]
    }
   ],
   "source": [
    "mylist.remove(4)\n",
    "print(mylist)"
   ]
  },
  {
   "cell_type": "code",
   "execution_count": 18,
   "id": "cc5c4169",
   "metadata": {},
   "outputs": [
    {
     "name": "stdout",
     "output_type": "stream",
     "text": [
      "['ChelseaFC', 'LiverpoolFC', 'MUFC', 'ChelseaFC', 'LiverpoolFC', 'MUFC']\n"
     ]
    }
   ],
   "source": [
    "mylist = ['ChelseaFC','LiverpoolFC','MUFC']\n",
    "mylist = mylist + mylist\n",
    "print(mylist)"
   ]
  },
  {
   "cell_type": "code",
   "execution_count": 22,
   "id": "f9dd7fd1",
   "metadata": {},
   "outputs": [
    {
     "name": "stdout",
     "output_type": "stream",
     "text": [
      "2\n"
     ]
    }
   ],
   "source": [
    "print(mylist.count('ChelseaFC'))"
   ]
  },
  {
   "cell_type": "code",
   "execution_count": 24,
   "id": "d1b8eddf",
   "metadata": {},
   "outputs": [
    {
     "name": "stdout",
     "output_type": "stream",
     "text": [
      "['MUFC', 'LiverpoolFC', 'ChelseaFC', 'MUFC', 'LiverpoolFC', 'ChelseaFC']\n"
     ]
    }
   ],
   "source": [
    "mylist.reverse()\n",
    "print(mylist)"
   ]
  },
  {
   "cell_type": "code",
   "execution_count": 28,
   "id": "d1fb6ef7",
   "metadata": {},
   "outputs": [
    {
     "name": "stdout",
     "output_type": "stream",
     "text": [
      "['ChelseaFC', 'MUFC']\n"
     ]
    }
   ],
   "source": [
    "print(mylist[2:4])"
   ]
  },
  {
   "cell_type": "code",
   "execution_count": 29,
   "id": "4b947fe1",
   "metadata": {},
   "outputs": [],
   "source": [
    "mylist = [1,2,3,4,5]"
   ]
  },
  {
   "cell_type": "code",
   "execution_count": 30,
   "id": "0da42522",
   "metadata": {},
   "outputs": [
    {
     "name": "stdout",
     "output_type": "stream",
     "text": [
      "[1, 2, 3, 4, 5, 1, 2, 3, 4, 5]\n"
     ]
    }
   ],
   "source": [
    "mylist = mylist*2\n",
    "print(mylist)"
   ]
  },
  {
   "cell_type": "code",
   "execution_count": 31,
   "id": "ac865123",
   "metadata": {},
   "outputs": [
    {
     "name": "stdout",
     "output_type": "stream",
     "text": [
      "1\n",
      "2\n",
      "3\n",
      "4\n",
      "5\n",
      "1\n",
      "2\n",
      "3\n",
      "4\n",
      "5\n"
     ]
    }
   ],
   "source": [
    "for x in mylist:\n",
    "    print(x)"
   ]
  },
  {
   "cell_type": "code",
   "execution_count": 43,
   "id": "b97ccfd5",
   "metadata": {},
   "outputs": [
    {
     "name": "stdout",
     "output_type": "stream",
     "text": [
      "2\n",
      "4\n",
      "6\n",
      "8\n",
      "10\n",
      "2\n",
      "4\n",
      "6\n",
      "8\n",
      "10\n"
     ]
    }
   ],
   "source": [
    "for x in mylist:\n",
    "    x = x*2\n",
    "    print(x)"
   ]
  },
  {
   "cell_type": "code",
   "execution_count": 47,
   "id": "7d85d622",
   "metadata": {},
   "outputs": [
    {
     "name": "stdout",
     "output_type": "stream",
     "text": [
      "[1, 2, 3, 4, 5, 1, 2, 3, 4, 5]\n",
      "[1, 2, 3, 4, 5, 1, 2, 3, 4, 5, 9]\n"
     ]
    }
   ],
   "source": [
    "print(mylist)\n",
    "mylist = mylist + [9]\n",
    "print(mylist)"
   ]
  },
  {
   "cell_type": "markdown",
   "id": "bcf21532",
   "metadata": {},
   "source": [
    "### Dictionary Section"
   ]
  },
  {
   "cell_type": "code",
   "execution_count": 35,
   "id": "65eff111",
   "metadata": {},
   "outputs": [],
   "source": [
    "a_dict = {'Achoo': 'Bless You', 'The Schwartz': 'The Schwartz','Spaceballs': 'The Schwartz'}"
   ]
  },
  {
   "cell_type": "code",
   "execution_count": 36,
   "id": "f2be73db",
   "metadata": {},
   "outputs": [
    {
     "data": {
      "text/plain": [
       "dict_keys(['Achoo', 'The Schwartz', 'Spaceballs'])"
      ]
     },
     "execution_count": 36,
     "metadata": {},
     "output_type": "execute_result"
    }
   ],
   "source": [
    "a_dict.keys()"
   ]
  },
  {
   "cell_type": "code",
   "execution_count": 37,
   "id": "16bd66f9",
   "metadata": {},
   "outputs": [
    {
     "data": {
      "text/plain": [
       "dict_values(['Bless You', 'The Schwartz', 'The Schwartz'])"
      ]
     },
     "execution_count": 37,
     "metadata": {},
     "output_type": "execute_result"
    }
   ],
   "source": [
    "a_dict.values()"
   ]
  },
  {
   "cell_type": "code",
   "execution_count": 38,
   "id": "73492526",
   "metadata": {},
   "outputs": [
    {
     "data": {
      "text/plain": [
       "dict_items([('Achoo', 'Bless You'), ('The Schwartz', 'The Schwartz'), ('Spaceballs', 'The Schwartz')])"
      ]
     },
     "execution_count": 38,
     "metadata": {},
     "output_type": "execute_result"
    }
   ],
   "source": [
    "a_dict.items()"
   ]
  },
  {
   "cell_type": "code",
   "execution_count": 41,
   "id": "f5a85190",
   "metadata": {},
   "outputs": [],
   "source": [
    "del a_dict['Spaceballs']"
   ]
  },
  {
   "cell_type": "code",
   "execution_count": 42,
   "id": "c3757975",
   "metadata": {},
   "outputs": [
    {
     "name": "stdout",
     "output_type": "stream",
     "text": [
      "{'Achoo': 'Bless You', 'The Schwartz': 'The Schwartz'}\n"
     ]
    }
   ],
   "source": [
    "print(a_dict)"
   ]
  },
  {
   "cell_type": "code",
   "execution_count": 48,
   "id": "584fcd13",
   "metadata": {},
   "outputs": [
    {
     "data": {
      "text/plain": [
       "'Bless You'"
      ]
     },
     "execution_count": 48,
     "metadata": {},
     "output_type": "execute_result"
    }
   ],
   "source": [
    "a_dict['Achoo']"
   ]
  },
  {
   "cell_type": "code",
   "execution_count": 49,
   "id": "f37b98ef",
   "metadata": {},
   "outputs": [
    {
     "data": {
      "text/plain": [
       "True"
      ]
     },
     "execution_count": 49,
     "metadata": {},
     "output_type": "execute_result"
    }
   ],
   "source": [
    "'Achoo' in a_dict"
   ]
  },
  {
   "cell_type": "code",
   "execution_count": null,
   "id": "86fbff37",
   "metadata": {},
   "outputs": [],
   "source": []
  }
 ],
 "metadata": {
  "kernelspec": {
   "display_name": "Python 3",
   "language": "python",
   "name": "python3"
  },
  "language_info": {
   "codemirror_mode": {
    "name": "ipython",
    "version": 3
   },
   "file_extension": ".py",
   "mimetype": "text/x-python",
   "name": "python",
   "nbconvert_exporter": "python",
   "pygments_lexer": "ipython3",
   "version": "3.8.8"
  }
 },
 "nbformat": 4,
 "nbformat_minor": 5
}
